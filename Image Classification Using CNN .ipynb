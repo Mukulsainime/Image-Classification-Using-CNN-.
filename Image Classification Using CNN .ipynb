{
 "cells": [
  {
   "cell_type": "code",
   "execution_count": 1,
   "id": "422c823c-e6c9-42d7-8b6a-bea29443b326",
   "metadata": {},
   "outputs": [],
   "source": [
    "import tensorflow as tf\n",
    "from tensorflow.keras import datasets, layers, models\n",
    "import numpy as np\n",
    "import matplotlib.pyplot as plt"
   ]
  },
  {
   "cell_type": "code",
   "execution_count": 2,
   "id": "905468d2-1d54-4774-a5c7-6a5cc554460c",
   "metadata": {},
   "outputs": [],
   "source": [
    "(X_train, Y_train), (X_test, Y_test) = datasets.cifar10.load_data()"
   ]
  },
  {
   "cell_type": "code",
   "execution_count": 3,
   "id": "53b0bf48-1c8f-4a56-b1e4-ed5aa673813d",
   "metadata": {},
   "outputs": [
    {
     "data": {
      "text/plain": [
       "(10000, 32, 32, 3)"
      ]
     },
     "execution_count": 3,
     "metadata": {},
     "output_type": "execute_result"
    }
   ],
   "source": [
    "X_test.shape"
   ]
  },
  {
   "cell_type": "code",
   "execution_count": 4,
   "id": "b26a3924-a7d3-4387-b480-6f45b881727a",
   "metadata": {},
   "outputs": [
    {
     "data": {
      "text/plain": [
       "(50000, 32, 32, 3)"
      ]
     },
     "execution_count": 4,
     "metadata": {},
     "output_type": "execute_result"
    }
   ],
   "source": [
    "X_train.shape"
   ]
  },
  {
   "cell_type": "code",
   "execution_count": 5,
   "id": "eb3e67f8-6705-40dc-a50f-39e76192c271",
   "metadata": {},
   "outputs": [
    {
     "data": {
      "text/plain": [
       "(50000, 1)"
      ]
     },
     "execution_count": 5,
     "metadata": {},
     "output_type": "execute_result"
    }
   ],
   "source": [
    "Y_train.shape"
   ]
  },
  {
   "cell_type": "code",
   "execution_count": 83,
   "id": "a3ca6aac-c463-4fbf-8802-64ae7a824971",
   "metadata": {},
   "outputs": [
    {
     "data": {
      "text/plain": [
       "(10000,)"
      ]
     },
     "execution_count": 83,
     "metadata": {},
     "output_type": "execute_result"
    }
   ],
   "source": [
    "Y_test.shape"
   ]
  },
  {
   "cell_type": "code",
   "execution_count": 7,
   "id": "c004b4ed-de2e-4acb-8855-65264594fed0",
   "metadata": {},
   "outputs": [
    {
     "data": {
      "text/plain": [
       "array([[6],\n",
       "       [9],\n",
       "       [9],\n",
       "       [4],\n",
       "       [1],\n",
       "       [1],\n",
       "       [2],\n",
       "       [7]], dtype=uint8)"
      ]
     },
     "execution_count": 7,
     "metadata": {},
     "output_type": "execute_result"
    }
   ],
   "source": [
    "Y_train[:8] #2D array"
   ]
  },
  {
   "cell_type": "code",
   "execution_count": 8,
   "id": "0f8b4584-9896-4b39-b257-d9b03a4bea86",
   "metadata": {},
   "outputs": [
    {
     "data": {
      "text/plain": [
       "array([6, 9, 9, 4, 1, 1, 2, 7], dtype=uint8)"
      ]
     },
     "execution_count": 8,
     "metadata": {},
     "output_type": "execute_result"
    }
   ],
   "source": [
    "#convert into 1D array \n",
    "Y_train = Y_train.reshape(-1,)\n",
    "Y_train[:8]"
   ]
  },
  {
   "cell_type": "code",
   "execution_count": 85,
   "id": "01f9bc71-ec56-46f6-a894-d4dd3739ea47",
   "metadata": {},
   "outputs": [
    {
     "data": {
      "text/plain": [
       "array([3, 8, 8, 0, 6, 6, 1, 6, 3], dtype=uint8)"
      ]
     },
     "execution_count": 85,
     "metadata": {},
     "output_type": "execute_result"
    }
   ],
   "source": [
    "Y_test = Y_test.reshape(-1,)\n",
    "Y_test[:9]"
   ]
  },
  {
   "cell_type": "code",
   "execution_count": 10,
   "id": "cbeca720-cd5e-47f1-84d8-afdcf65dae2f",
   "metadata": {},
   "outputs": [],
   "source": [
    "Classes = ['airplane','automobile','bird','cat','deer','dog','frog','horse','ship','truck']"
   ]
  },
  {
   "cell_type": "code",
   "execution_count": 11,
   "id": "3344ea08-dde5-4402-88e6-95a7e8361f1d",
   "metadata": {},
   "outputs": [],
   "source": [
    "def plot_sample(X, Y, index):\n",
    "    plt.figure(figsize=(15,2))\n",
    "    plt.imshow(X[index])\n",
    "    plt.xlabel(Classes[Y[index]])\n",
    "    \n",
    "    "
   ]
  },
  {
   "cell_type": "code",
   "execution_count": 12,
   "id": "bf40d778-5f1a-421e-b389-c85769eac88b",
   "metadata": {},
   "outputs": [
    {
     "data": {
      "image/png": "[encoded data removed]",
      "text/plain": [
       "<Figure size 1500x200 with 1 Axes>"
      ]
     },
     "metadata": {},
     "output_type": "display_data"
    }
   ],
   "source": [
    "plot_sample(X_train, Y_train, 6)"
   ]
  },
  {
   "cell_type": "code",
   "execution_count": 13,
   "id": "a6b1f4d8-d55c-4cce-95c6-3d9cacaf3027",
   "metadata": {},
   "outputs": [
    {
     "data": {
      "image/png": "[encoded data removed]",
      "text/plain": [
       "<Figure size 1500x200 with 1 Axes>"
      ]
     },
     "metadata": {},
     "output_type": "display_data"
    }
   ],
   "source": [
    "plot_sample(X_train, Y_train, 700)"
   ]
  },
  {
   "cell_type": "code",
   "execution_count": 14,
   "id": "bc9c8adc-b732-4414-8c8f-bf1cc3d8aef7",
   "metadata": {},
   "outputs": [],
   "source": [
    "#normalise data\n",
    "X_train = X_train/255.0\n",
    "X_test = X_test/255.0"
   ]
  },
  {
   "cell_type": "code",
   "execution_count": 56,
   "id": "b52b7fa8-932f-49e5-ae2b-2e47c02549fd",
   "metadata": {},
   "outputs": [],
   "source": [
    "from tensorflow.keras import models, layers\n",
    "\n",
    "cnn = models.Sequential([\n",
    "    layers.Conv2D(filters=32, kernel_size=(3, 3), activation='relu', input_shape=(32, 32, 3)),\n",
    "    layers.MaxPooling2D((2, 2)),\n",
    "\n",
    "    layers.Conv2D(filters=64, kernel_size=(3, 3), activation='relu'),\n",
    "    layers.MaxPooling2D((2, 2)),\n",
    "\n",
    "    layers.Flatten(),\n",
    "    layers.Dense(64, activation='relu'),\n",
    "    layers.Dense(10, activation='softmax')\n",
    "])\n"
   ]
  },
  {
   "cell_type": "code",
   "execution_count": 57,
   "id": "855a10f3-12e4-4db6-bb64-8ff4bcc62d50",
   "metadata": {},
   "outputs": [],
   "source": [
    "cnn.compile(optimizer = 'adam',\n",
    "            loss = 'sparse_categorical_crossentropy',\n",
    "            metrics = ['accuracy'])"
   ]
  },
  {
   "cell_type": "code",
   "execution_count": 58,
   "id": "0248290d-dbeb-4716-9547-275357580bd7",
   "metadata": {},
   "outputs": [
    {
     "name": "stdout",
     "output_type": "stream",
     "text": [
      "Epoch 1/20\n",
      "\u001b[1m1563/1563\u001b[0m \u001b[32m━━━━━━━━━━━━━━━━━━━━\u001b[0m\u001b[37m\u001b[0m \u001b[1m14s\u001b[0m 8ms/step - accuracy: 0.3796 - loss: 1.7034\n",
      "Epoch 2/20\n",
      "\u001b[1m1563/1563\u001b[0m \u001b[32m━━━━━━━━━━━━━━━━━━━━\u001b[0m\u001b[37m\u001b[0m \u001b[1m13s\u001b[0m 8ms/step - accuracy: 0.5958 - loss: 1.1558\n",
      "Epoch 3/20\n",
      "\u001b[1m1563/1563\u001b[0m \u001b[32m━━━━━━━━━━━━━━━━━━━━\u001b[0m\u001b[37m\u001b[0m \u001b[1m13s\u001b[0m 8ms/step - accuracy: 0.6528 - loss: 1.0048\n",
      "Epoch 4/20\n",
      "\u001b[1m1563/1563\u001b[0m \u001b[32m━━━━━━━━━━━━━━━━━━━━\u001b[0m\u001b[37m\u001b[0m \u001b[1m13s\u001b[0m 8ms/step - accuracy: 0.6811 - loss: 0.9175\n",
      "Epoch 5/20\n",
      "\u001b[1m1563/1563\u001b[0m \u001b[32m━━━━━━━━━━━━━━━━━━━━\u001b[0m\u001b[37m\u001b[0m \u001b[1m13s\u001b[0m 8ms/step - accuracy: 0.7020 - loss: 0.8510\n",
      "Epoch 6/20\n",
      "\u001b[1m1563/1563\u001b[0m \u001b[32m━━━━━━━━━━━━━━━━━━━━\u001b[0m\u001b[37m\u001b[0m \u001b[1m14s\u001b[0m 9ms/step - accuracy: 0.7343 - loss: 0.7741\n",
      "Epoch 7/20\n",
      "\u001b[1m1563/1563\u001b[0m \u001b[32m━━━━━━━━━━━━━━━━━━━━\u001b[0m\u001b[37m\u001b[0m \u001b[1m13s\u001b[0m 9ms/step - accuracy: 0.7458 - loss: 0.7395\n",
      "Epoch 8/20\n",
      "\u001b[1m1563/1563\u001b[0m \u001b[32m━━━━━━━━━━━━━━━━━━━━\u001b[0m\u001b[37m\u001b[0m \u001b[1m14s\u001b[0m 9ms/step - accuracy: 0.7634 - loss: 0.6769\n",
      "Epoch 9/20\n",
      "\u001b[1m1563/1563\u001b[0m \u001b[32m━━━━━━━━━━━━━━━━━━━━\u001b[0m\u001b[37m\u001b[0m \u001b[1m14s\u001b[0m 9ms/step - accuracy: 0.7765 - loss: 0.6454\n",
      "Epoch 10/20\n",
      "\u001b[1m1563/1563\u001b[0m \u001b[32m━━━━━━━━━━━━━━━━━━━━\u001b[0m\u001b[37m\u001b[0m \u001b[1m14s\u001b[0m 9ms/step - accuracy: 0.7926 - loss: 0.6020\n",
      "Epoch 11/20\n",
      "\u001b[1m1563/1563\u001b[0m \u001b[32m━━━━━━━━━━━━━━━━━━━━\u001b[0m\u001b[37m\u001b[0m \u001b[1m14s\u001b[0m 9ms/step - accuracy: 0.8026 - loss: 0.5693\n",
      "Epoch 12/20\n",
      "\u001b[1m1563/1563\u001b[0m \u001b[32m━━━━━━━━━━━━━━━━━━━━\u001b[0m\u001b[37m\u001b[0m \u001b[1m15s\u001b[0m 10ms/step - accuracy: 0.8077 - loss: 0.5425\n",
      "Epoch 13/20\n",
      "\u001b[1m1563/1563\u001b[0m \u001b[32m━━━━━━━━━━━━━━━━━━━━\u001b[0m\u001b[37m\u001b[0m \u001b[1m15s\u001b[0m 10ms/step - accuracy: 0.8249 - loss: 0.5021\n",
      "Epoch 14/20\n",
      "\u001b[1m1563/1563\u001b[0m \u001b[32m━━━━━━━━━━━━━━━━━━━━\u001b[0m\u001b[37m\u001b[0m \u001b[1m14s\u001b[0m 9ms/step - accuracy: 0.8317 - loss: 0.4842\n",
      "Epoch 15/20\n",
      "\u001b[1m1563/1563\u001b[0m \u001b[32m━━━━━━━━━━━━━━━━━━━━\u001b[0m\u001b[37m\u001b[0m \u001b[1m15s\u001b[0m 9ms/step - accuracy: 0.8387 - loss: 0.4602\n",
      "Epoch 16/20\n",
      "\u001b[1m1563/1563\u001b[0m \u001b[32m━━━━━━━━━━━━━━━━━━━━\u001b[0m\u001b[37m\u001b[0m \u001b[1m14s\u001b[0m 9ms/step - accuracy: 0.8492 - loss: 0.4279\n",
      "Epoch 17/20\n",
      "\u001b[1m1563/1563\u001b[0m \u001b[32m━━━━━━━━━━━━━━━━━━━━\u001b[0m\u001b[37m\u001b[0m \u001b[1m15s\u001b[0m 9ms/step - accuracy: 0.8591 - loss: 0.4026\n",
      "Epoch 18/20\n",
      "\u001b[1m1563/1563\u001b[0m \u001b[32m━━━━━━━━━━━━━━━━━━━━\u001b[0m\u001b[37m\u001b[0m \u001b[1m15s\u001b[0m 10ms/step - accuracy: 0.8631 - loss: 0.3818\n",
      "Epoch 19/20\n",
      "\u001b[1m1563/1563\u001b[0m \u001b[32m━━━━━━━━━━━━━━━━━━━━\u001b[0m\u001b[37m\u001b[0m \u001b[1m15s\u001b[0m 9ms/step - accuracy: 0.8707 - loss: 0.3614\n",
      "Epoch 20/20\n",
      "\u001b[1m1563/1563\u001b[0m \u001b[32m━━━━━━━━━━━━━━━━━━━━\u001b[0m\u001b[37m\u001b[0m \u001b[1m15s\u001b[0m 10ms/step - accuracy: 0.8805 - loss: 0.3331\n"
     ]
    },
    {
     "data": {
      "text/plain": [
       "<keras.src.callbacks.history.History at 0x39c05a6c0>"
      ]
     },
     "execution_count": 58,
     "metadata": {},
     "output_type": "execute_result"
    }
   ],
   "source": [
    "cnn.fit(X_train, Y_train, epochs = 30) "
   ]
  },
  {
   "cell_type": "code",
   "execution_count": 59,
   "id": "00576069-9a1e-4a71-b2ed-639964823ba3",
   "metadata": {},
   "outputs": [
    {
     "name": "stdout",
     "output_type": "stream",
     "text": [
      "\u001b[1m313/313\u001b[0m \u001b[32m━━━━━━━━━━━━━━━━━━━━\u001b[0m\u001b[37m\u001b[0m \u001b[1m1s\u001b[0m 4ms/step - accuracy: 0.6965 - loss: 1.1857\n"
     ]
    },
    {
     "data": {
      "text/plain": [
       "[1.1929107904434204, 0.6899999976158142]"
      ]
     },
     "execution_count": 59,
     "metadata": {},
     "output_type": "execute_result"
    }
   ],
   "source": [
    "cnn.evaluate(X_test, Y_test)"
   ]
  },
  {
   "cell_type": "code",
   "execution_count": 60,
   "id": "eb0323ee-0bcb-4e1b-b549-045dce0c1383",
   "metadata": {},
   "outputs": [
    {
     "name": "stdout",
     "output_type": "stream",
     "text": [
      "\u001b[1m313/313\u001b[0m \u001b[32m━━━━━━━━━━━━━━━━━━━━\u001b[0m\u001b[37m\u001b[0m \u001b[1m1s\u001b[0m 3ms/step\n"
     ]
    },
    {
     "data": {
      "text/plain": [
       "array([[8.70988332e-03, 7.31616092e-05, 4.24781429e-05, 9.15599704e-01,\n",
       "        3.13323853e-03, 6.18350245e-02, 8.24021583e-04, 2.17963257e-04,\n",
       "        9.35886055e-03, 2.05630698e-04],\n",
       "       [4.18808162e-02, 8.85073841e-01, 3.24967386e-10, 1.04178055e-11,\n",
       "        1.33641523e-15, 1.74858146e-15, 9.50783730e-19, 2.92847547e-14,\n",
       "        7.30424896e-02, 2.90858384e-06],\n",
       "       [4.39340502e-01, 1.35496795e-01, 2.57089734e-01, 2.65779346e-03,\n",
       "        3.15895668e-05, 1.12635920e-04, 2.24224891e-06, 1.09749161e-01,\n",
       "        4.58199121e-02, 9.69971716e-03],\n",
       "       [8.72361422e-01, 4.60940297e-04, 2.23376876e-04, 8.27635813e-05,\n",
       "        1.13971046e-05, 3.37944880e-06, 1.19277210e-08, 5.14607279e-07,\n",
       "        1.26855776e-01, 4.43349791e-07],\n",
       "       [5.25053423e-09, 4.22170851e-05, 2.36997940e-02, 7.74491252e-03,\n",
       "        8.21354389e-01, 1.38011583e-05, 1.47104010e-01, 2.24155494e-09,\n",
       "        4.07827829e-05, 9.46603418e-09],\n",
       "       [9.81179671e-09, 3.88708742e-07, 1.29437876e-05, 3.92429065e-03,\n",
       "        1.13883121e-04, 1.81308744e-04, 9.95764732e-01, 1.66098755e-06,\n",
       "        3.82529834e-07, 4.76802171e-07],\n",
       "       [1.82742058e-10, 9.99999523e-01, 1.11191424e-10, 2.28673997e-07,\n",
       "        3.50110269e-15, 2.08233075e-07, 2.24530456e-15, 2.75167653e-15,\n",
       "        6.68240767e-15, 1.22272201e-08],\n",
       "       [2.09844299e-03, 9.45992895e-07, 2.44137961e-02, 4.45631534e-01,\n",
       "        4.02050078e-01, 5.33221923e-02, 1.49253197e-02, 5.74495718e-02,\n",
       "        1.03889470e-04, 4.11045630e-06],\n",
       "       [3.99522905e-05, 7.31856034e-08, 5.15927852e-04, 9.24120724e-01,\n",
       "        1.87536813e-02, 1.28247254e-02, 1.29249843e-03, 4.23802510e-02,\n",
       "        7.20876415e-05, 4.89422760e-08]], dtype=float32)"
      ]
     },
     "execution_count": 60,
     "metadata": {},
     "output_type": "execute_result"
    }
   ],
   "source": [
    "Y_pred = cnn.predict(X_test)\n",
    "Y_pred[:9]"
   ]
  },
  {
   "cell_type": "code",
   "execution_count": 61,
   "id": "5289829f-3285-4698-9b7f-2f74d39e84cf",
   "metadata": {},
   "outputs": [
    {
     "data": {
      "text/plain": [
       "[3, 1, 0, 0, 4, 6, 1, 3, 3]"
      ]
     },
     "execution_count": 61,
     "metadata": {},
     "output_type": "execute_result"
    }
   ],
   "source": [
    "Y_classes=[np.argmax(element) for element in Y_pred]\n",
    "Y_classes[:9]"
   ]
  },
  {
   "cell_type": "code",
   "execution_count": 62,
   "id": "ba7cace7-a418-4158-a260-0a194f7d8d8a",
   "metadata": {},
   "outputs": [
    {
     "data": {
      "text/plain": [
       "array([3, 8, 8, 0, 6, 6, 1, 6, 3], dtype=uint8)"
      ]
     },
     "execution_count": 62,
     "metadata": {},
     "output_type": "execute_result"
    }
   ],
   "source": [
    "Y_test[:9]"
   ]
  },
  {
   "cell_type": "code",
   "execution_count": 63,
   "id": "fa8a930e-b047-4d92-83c9-cb69f36182c6",
   "metadata": {},
   "outputs": [
    {
     "data": {
      "image/png": "[encoded data removed]",
      "text/plain": [
       "<Figure size 1500x200 with 1 Axes>"
      ]
     },
     "metadata": {},
     "output_type": "display_data"
    }
   ],
   "source": [
    "plot_sample(X_test, Y_test, 6)"
   ]
  },
  {
   "cell_type": "code",
   "execution_count": 82,
   "id": "6fd1e4ba-c813-4d6a-95c3-03706febe8cd",
   "metadata": {},
   "outputs": [
    {
     "data": {
      "image/png": "[encoded data removed]",
      "text/plain": [
       "<Figure size 1500x200 with 1 Axes>"
      ]
     },
     "metadata": {},
     "output_type": "display_data"
    }
   ],
   "source": [
    "plot_sample(X_test, Y_test, 7088)"
   ]
  },
  {
   "cell_type": "code",
   "execution_count": 81,
   "id": "aff6b12e-cc51-4942-94be-75a88918fe88",
   "metadata": {},
   "outputs": [
    {
     "data": {
      "text/plain": [
       "'ship'"
      ]
     },
     "execution_count": 81,
     "metadata": {},
     "output_type": "execute_result"
    }
   ],
   "source": [
    "Classes[Y_classes[7088]]"
   ]
  },
  {
   "cell_type": "code",
   "execution_count": null,
   "id": "bf2477c3-b130-410b-88c8-ece28d7837c9",
   "metadata": {},
   "outputs": [],
   "source": []
  }
 ],
 "metadata": {
  "kernelspec": {
   "display_name": "Python 3 (ipykernel)",
   "language": "python",
   "name": "python3"
  },
  "language_info": {
   "codemirror_mode": {
    "name": "ipython",
    "version": 3
   },
   "file_extension": ".py",
   "mimetype": "text/x-python",
   "name": "python",
   "nbconvert_exporter": "python",
   "pygments_lexer": "ipython3",
   "version": "3.12.0"
  }
 },
 "nbformat": 4,
 "nbformat_minor": 5
}
